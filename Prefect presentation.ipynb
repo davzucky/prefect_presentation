{
 "cells": [
  {
   "cell_type": "markdown",
   "id": "2a5a3d16",
   "metadata": {
    "slideshow": {
     "slide_type": "slide"
    }
   },
   "source": [
    "\n",
    "# Part 2: Let work with a real example\n",
    "\n",
    "## Download market data per underline index"
   ]
  },
  {
   "cell_type": "markdown",
   "id": "06d95359",
   "metadata": {
    "slideshow": {
     "slide_type": "slide"
    }
   },
   "source": [
    "## Standard programming solution\n",
    "\n",
    "- Extract index composition from Stooq\n",
    "- Download daily market data for each symbols\n",
    "- Resample daily candles to weekly and monthly\n",
    "- Save all result to parquets"
   ]
  },
  {
   "cell_type": "code",
   "execution_count": 1,
   "id": "7a4630d4",
   "metadata": {
    "slideshow": {
     "slide_type": "subslide"
    }
   },
   "outputs": [],
   "source": [
    "import pandas as pd\n",
    "from typing import List\n",
    "import os\n",
    "import time\n",
    "import pathlib\n",
    "\n",
    "\n",
    "def index_to_stooq_id(index_name:str)-> str:\n",
    "    i_2_s = {\"DJI\": \"578\",\n",
    "            \"NDX\":\"580\",\n",
    "            \"HSI\":\"616\"}\n",
    "    return i_2_s[index_name]\n",
    "\n",
    "def get_index_composition(index_id: str) -> pd.DataFrame:\n",
    "    return pd.read_html(f\"https://stooq.com/t/?i={index_id}\", attrs = {\"id\": \"fth1\"})[0]\n",
    "\n",
    "def get_symbols(df_index_composition: pd.DataFrame) -> List[str]:\n",
    "    return [symbol for symbol in df_index_composition[\"Symbol\"]]\n",
    "\n",
    "def get_historical_data(symbol: str, time_frame: str=\"d\") -> pd.DataFrame:\n",
    "    df = pd.read_csv(f\"https://stooq.com/q/d/l/?s={symbol}&i={time_frame}\", parse_dates=True)\n",
    "    df['Date'] =  pd.to_datetime(df['Date'], format='%Y-%m-%d')\n",
    "    return df"
   ]
  },
  {
   "cell_type": "code",
   "execution_count": 2,
   "id": "ef4f751f",
   "metadata": {
    "slideshow": {
     "slide_type": "subslide"
    }
   },
   "outputs": [],
   "source": [
    "def resample_candle(df_daily:pd.DataFrame, resampling: str = \"W\") -> pd.DataFrame:\n",
    "    agg_dict = {'Open': 'first',\n",
    "          'High': 'max',\n",
    "          'Low': 'min',\n",
    "          'Close': 'last',\n",
    "          'Volume': 'mean'}\n",
    "    df_with_index = df_daily.set_index(\"Date\")\n",
    "    return df_with_index.resample(resampling).agg(agg_dict).reset_index()\n",
    "\n",
    "def save_to_parquest(df: pd.DataFrame, path: str):\n",
    "    pathlib.Path(path).parent.mkdir(parents=True, exist_ok=True)\n",
    "    df.to_parquet(path)"
   ]
  },
  {
   "cell_type": "code",
   "execution_count": 9,
   "id": "6b615bcd",
   "metadata": {
    "slideshow": {
     "slide_type": "subslide"
    }
   },
   "outputs": [
    {
     "name": "stdout",
     "output_type": "stream",
     "text": [
      "=> Extract composition for DJI\n",
      "==> Extract market data for AAPL.US Resample W. M took: 3.85s\n",
      "==> Extract market data for AXP.US Resample W. M took: 4.26s\n",
      "==> Extract market data for BA.US Resample W. M took: 5.00s\n",
      "==> Extract market data for CAT.US Resample W. M took: 5.10s\n",
      "==> Extract market data for CSCO.US Resample W. M took: 4.51s\n",
      "==> Extract market data for CVX.US Resample W. M took: 4.55s\n"
     ]
    }
   ],
   "source": [
    "index_name = \"DJI\"\n",
    "root_market_data = \"~/git/prefect_presentation/market_data\"\n",
    "\n",
    "\n",
    "print(f\"=> Extract composition for {index_name}\")\n",
    "index_id = index_to_stooq_id(index_name)\n",
    "df_composition = get_index_composition(index_id)\n",
    "\n",
    "\n",
    "for symbol in get_symbols(df_composition)[:6]:\n",
    "    start = time.time()\n",
    "    print(f\"==> Extract market data for {symbol}\", end =\" \")\n",
    "    df_OHLC_daily = get_historical_data(symbol)\n",
    "    save_to_parquest(df_OHLC_daily, f\"{root_market_data}/{index_name}/{symbol}_d.parquet\")\n",
    "    print(\"Resample W.\", end =\" \")\n",
    "    df_OHLC_weekly = resample_candle(df_OHLC_daily, \"W\")\n",
    "    save_to_parquest(df_OHLC_weekly, f\"{root_market_data}/{index_name}/{symbol}_W.parquet\")\n",
    "    print(\"M\", end =\" \")\n",
    "    df_OHLC_monthly = resample_candle(df_OHLC_daily, \"M\")\n",
    "    save_to_parquest(df_OHLC_monthly, f\"{root_market_data}/{index_name}/{symbol}_M.parquet\")\n",
    "    end = time.time()\n",
    "    print(f\"took: {end - start:2.2f}s\")"
   ]
  },
  {
   "cell_type": "markdown",
   "id": "c888428a",
   "metadata": {
    "slideshow": {
     "slide_type": "subslide"
    }
   },
   "source": [
    "## Limitation\n",
    "\n",
    "- linear, hard to scale out\n",
    "- Load of hedge case to handle to be resilient\n"
   ]
  },
  {
   "cell_type": "markdown",
   "id": "2ae86be1",
   "metadata": {
    "slideshow": {
     "slide_type": "slide"
    }
   },
   "source": [
    "## How can we do, Let look at Prefect\n",
    "\n"
   ]
  },
  {
   "cell_type": "markdown",
   "id": "32db87e5",
   "metadata": {
    "slideshow": {
     "slide_type": "subslide"
    }
   },
   "source": [
    "### Few important base component to know\n",
    "\n",
    "1. Task: Low level execution unit\n",
    "1. Flow: Container of tasks with their dependencies"
   ]
  },
  {
   "cell_type": "code",
   "execution_count": null,
   "id": "97579943",
   "metadata": {
    "slideshow": {
     "slide_type": "subslide"
    }
   },
   "outputs": [],
   "source": [
    "from prefect import task, Flow, Parameter, unmapped\n",
    "import pandas as pd\n",
    "from typing import List\n",
    "import os\n",
    "import time\n",
    "import pathlib\n",
    "\n",
    "@task\n",
    "def index_to_stooq_id(index_name:str)-> str:\n",
    "    i_2_s = {\"DJI\": \"578\",\n",
    "            \"NDX\":\"580\",\n",
    "            \"HSI\":\"616\"}\n",
    "    return i_2_s[index_name]\n",
    "\n",
    "@task\n",
    "def get_index_composition(index_id: str) -> pd.DataFrame:\n",
    "    return pd.read_html(f\"https://stooq.com/t/?i={index_id}\", attrs = {\"id\": \"fth1\"})[0]\n",
    "\n",
    "@task\n",
    "def get_symbols(df_index_composition: pd.DataFrame) -> List[str]:\n",
    "    return [symbol for symbol in df_index_composition[\"Symbol\"]]\n",
    "\n",
    "@task\n",
    "def get_historical_data(symbol: str, time_frame: str=\"d\") -> pd.DataFrame:\n",
    "    df = pd.read_csv(f\"https://stooq.com/q/d/l/?s={symbol}&i={time_frame}\", parse_dates=True)\n",
    "    df['Date'] =  pd.to_datetime(df['Date'], format='%Y-%m-%d')\n",
    "    return df\n",
    "\n",
    "@task\n",
    "def resample_candle(df_daily:pd.DataFrame, resampling: str = \"W\") -> pd.DataFrame:\n",
    "    agg_dict = {'Open': 'first',\n",
    "          'High': 'max',\n",
    "          'Low': 'min',\n",
    "          'Close': 'last',\n",
    "          'Volume': 'mean'}\n",
    "    df_with_index = df_daily.set_index(\"Date\")\n",
    "    return df_with_index.resample(resampling).agg(agg_dict).reset_index()\n",
    "\n",
    "@task\n",
    "def get_save_path(root:str, index_name: str, symbol:str, timeframe:str)-> str:\n",
    "    return f\"{root}/{index_name}/{symbol}_{timeframe}.parquet\"\n",
    "\n",
    "@task\n",
    "def save_to_parquest(df: pd.DataFrame, path: str):\n",
    "    pathlib.Path(path).parent.mkdir(parents=True, exist_ok=True)\n",
    "    df.to_parquet(path)\n"
   ]
  },
  {
   "cell_type": "code",
   "execution_count": null,
   "id": "f9a33cb4",
   "metadata": {
    "slideshow": {
     "slide_type": "subslide"
    }
   },
   "outputs": [],
   "source": [
    "with Flow(\"extract_market_data\") as f:\n",
    "\n",
    "    index_name = Parameter(\"index\", default=\"DJI\")\n",
    "    root_market_data = Parameter(\"root_folder\", \"~/git/prefect_presentation/market_data\")\n",
    "\n",
    "    index_id = index_to_stooq_id(index_name)\n",
    "    df_composition = get_index_composition(index_id)\n",
    "    symbols = get_symbols(df_composition)\n",
    "    \n",
    "    df_OHLC_daily = get_historical_data.map(symbols)\n",
    "    daily_path = get_save_path.map(unmapped(root_market_data),unmapped(index_name), symbols, unmapped(\"d\") )\n",
    "    save_to_parquest.map(df_OHLC_daily, daily_path)\n",
    "    \n",
    "    df_weekly = resample_candle.map(df_OHLC_daily, unmapped(\"W\"))\n",
    "    weekly_path = get_save_path.map(unmapped(root_market_data),unmapped(index_name), symbols, unmapped(\"W\") )\n",
    "    save_to_parquest.map(df_weekly, weekly_path)\n",
    "    \n",
    "    df_monthly = resample_candle.map(df_OHLC_daily, unmapped(\"M\"))\n",
    "    monthly_path = get_save_path.map(unmapped(root_market_data),unmapped(index_name), symbols, unmapped(\"M\") )\n",
    "    save_to_parquest.map(df_monthly, monthly_path)\n",
    "    \n"
   ]
  },
  {
   "cell_type": "code",
   "execution_count": null,
   "id": "b36389d2",
   "metadata": {
    "slideshow": {
     "slide_type": "subslide"
    }
   },
   "outputs": [],
   "source": [
    "f.visualize()"
   ]
  },
  {
   "cell_type": "code",
   "execution_count": null,
   "id": "0b906534",
   "metadata": {},
   "outputs": [],
   "source": [
    "f.run()"
   ]
  },
  {
   "cell_type": "code",
   "execution_count": null,
   "id": "fe8d49cc",
   "metadata": {},
   "outputs": [],
   "source": [
    "from prefect.executors import LocalDaskExecutor     \n",
    "executor = LocalDaskExecutor(scheduler=\"threads\", nb_threads=\"8\")\n",
    "f.run(executor=executor)"
   ]
  }
 ],
 "metadata": {
  "celltoolbar": "Slideshow",
  "kernelspec": {
   "display_name": "Python 3 (ipykernel)",
   "language": "python",
   "name": "python3"
  },
  "language_info": {
   "codemirror_mode": {
    "name": "ipython",
    "version": 3
   },
   "file_extension": ".py",
   "mimetype": "text/x-python",
   "name": "python",
   "nbconvert_exporter": "python",
   "pygments_lexer": "ipython3",
   "version": "3.9.7"
  }
 },
 "nbformat": 4,
 "nbformat_minor": 5
}
